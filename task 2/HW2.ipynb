{
 "cells": [
  {
   "cell_type": "markdown",
   "metadata": {},
   "source": [
    "# Spark Streaming\n",
    "\n",
    "Выберете несколько популярных Telegram канала, с помощью какой-нибудь клиентской библиотеки (например [Telethone](https://github.com/LonamiWebs/Telethon)) научитесь получать свежие сообщения и записывать из в файлы (parquet). Должны быть следующие поля: время, источник (канал), текст сообщения, есть ли медиа. Напишите соответствующий скрипт.\n",
    "\n",
    "Файл со свежими сообщениями появляется каждую минуту (настраиваемый параметр), в имени содержится временной промежуток накопления сообщений. \n",
    "\n",
    "В другом скрипте, с помощью Spark Structured Streaming научитесь находить какие-нибудь аномалии (обсуждение темы, всплеск частоты сообщений и т.п.) в собираемых данных. "
   ]
  }
 ],
 "metadata": {
  "kernelspec": {
   "display_name": "Python 3",
   "language": "python",
   "name": "python3"
  },
  "language_info": {
   "codemirror_mode": {
    "name": "ipython",
    "version": 3
   },
   "file_extension": ".py",
   "mimetype": "text/x-python",
   "name": "python",
   "nbconvert_exporter": "python",
   "pygments_lexer": "ipython3",
   "version": "3.8.3"
  }
 },
 "nbformat": 4,
 "nbformat_minor": 2
}

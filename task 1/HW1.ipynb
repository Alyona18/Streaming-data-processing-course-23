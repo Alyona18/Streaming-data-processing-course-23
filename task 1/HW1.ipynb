{
 "cells": [
  {
   "cell_type": "markdown",
   "metadata": {},
   "source": [
    "# Kafka Producers/Consumers\n",
    "\n",
    "С помощью какой-либо клиентской библиотеки (например [confluent-kafka](https://pypi.org/project/confluent-kafka/), [kafka-python](https://pypi.org/project/kafka-python/), [aiokafka](https://pypi.org/project/aiokafka/) или [faust](https://pypi.org/project/faust-streaming/) проэмулируйте процесс работы датчиков IoT устройств.\n",
    "\n",
    "В отдельном скрипте работают \"производители\":\n",
    "- датчики (их число настраивается) с определенными задержками пишут в один топик показания, каждый согласно какому-то настаиваемому распределению с настраиваемыми задержками по времени. Сообщения пишутся в произвольном формате, должны быть следующие поля: время события, \"тип\" датчика (температура, давление, и т.п.), имя датчика, значение (число с плавающей точкой). \n",
    "\n",
    "В другом скрипте работают \"потребители\":\n",
    "- данные накапливаются и каждые 20 секунд (настраиваемый параметр) строятся два pandas DataFrame - среднее значение показаний по типу датчика и по имени датчика. Данные выводятся в консоль."
   ]
  },
  {
   "cell_type": "code",
   "execution_count": 3,
   "metadata": {},
   "outputs": [],
   "source": []
  }
 ],
 "metadata": {
  "kernelspec": {
   "display_name": "Python 3",
   "language": "python",
   "name": "python3"
  },
  "language_info": {
   "codemirror_mode": {
    "name": "ipython",
    "version": 3
   },
   "file_extension": ".py",
   "mimetype": "text/x-python",
   "name": "python",
   "nbconvert_exporter": "python",
   "pygments_lexer": "ipython3",
   "version": "3.8.3"
  }
 },
 "nbformat": 4,
 "nbformat_minor": 2
}
